{
 "cells": [
  {
   "cell_type": "markdown",
   "id": "4d520577",
   "metadata": {},
   "source": [
    "# We need to importing the relevant libraries."
   ]
  },
  {
   "cell_type": "code",
   "execution_count": 77,
   "id": "138358c5",
   "metadata": {},
   "outputs": [],
   "source": [
    "import pandas as pd\n",
    "import  numpy as np\n",
    "import matplotlib.pyplot as plt\n",
    "\n",
    "from sklearn.model_selection import train_test_split\n",
    "from sklearn.linear_model  import LogisticRegression\n",
    "import seaborn as sns"
   ]
  },
  {
   "cell_type": "markdown",
   "id": "cfd10576",
   "metadata": {},
   "source": [
    "# Loading  the Dataset"
   ]
  },
  {
   "cell_type": "code",
   "execution_count": 78,
   "id": "e320b85b",
   "metadata": {},
   "outputs": [],
   "source": [
    "data=pd.read_csv(\"C:/Users/BENJAMIN/Downloads/insurance.csv\")"
   ]
  },
  {
   "cell_type": "code",
   "execution_count": 79,
   "id": "a3efb4fd",
   "metadata": {},
   "outputs": [
    {
     "name": "stdout",
     "output_type": "stream",
     "text": [
      "<class 'pandas.core.frame.DataFrame'>\n",
      "RangeIndex: 1338 entries, 0 to 1337\n",
      "Data columns (total 7 columns):\n",
      " #   Column    Non-Null Count  Dtype  \n",
      "---  ------    --------------  -----  \n",
      " 0   age       1338 non-null   int64  \n",
      " 1   sex       1338 non-null   object \n",
      " 2   bmi       1338 non-null   float64\n",
      " 3   children  1338 non-null   int64  \n",
      " 4   smoker    1338 non-null   object \n",
      " 5   region    1338 non-null   object \n",
      " 6   charges   1338 non-null   float64\n",
      "dtypes: float64(2), int64(2), object(3)\n",
      "memory usage: 73.3+ KB\n"
     ]
    }
   ],
   "source": [
    "data.info()  #Obtaining the information about the loaded dataset."
   ]
  },
  {
   "cell_type": "code",
   "execution_count": 80,
   "id": "81ea88b1",
   "metadata": {},
   "outputs": [
    {
     "data": {
      "text/html": [
       "<div>\n",
       "<style scoped>\n",
       "    .dataframe tbody tr th:only-of-type {\n",
       "        vertical-align: middle;\n",
       "    }\n",
       "\n",
       "    .dataframe tbody tr th {\n",
       "        vertical-align: top;\n",
       "    }\n",
       "\n",
       "    .dataframe thead th {\n",
       "        text-align: right;\n",
       "    }\n",
       "</style>\n",
       "<table border=\"1\" class=\"dataframe\">\n",
       "  <thead>\n",
       "    <tr style=\"text-align: right;\">\n",
       "      <th></th>\n",
       "      <th>age</th>\n",
       "      <th>sex</th>\n",
       "      <th>bmi</th>\n",
       "      <th>children</th>\n",
       "      <th>smoker</th>\n",
       "      <th>region</th>\n",
       "      <th>charges</th>\n",
       "    </tr>\n",
       "  </thead>\n",
       "  <tbody>\n",
       "    <tr>\n",
       "      <th>0</th>\n",
       "      <td>19</td>\n",
       "      <td>female</td>\n",
       "      <td>27.900</td>\n",
       "      <td>0</td>\n",
       "      <td>yes</td>\n",
       "      <td>southwest</td>\n",
       "      <td>16884.92400</td>\n",
       "    </tr>\n",
       "    <tr>\n",
       "      <th>1</th>\n",
       "      <td>18</td>\n",
       "      <td>male</td>\n",
       "      <td>33.770</td>\n",
       "      <td>1</td>\n",
       "      <td>no</td>\n",
       "      <td>southeast</td>\n",
       "      <td>1725.55230</td>\n",
       "    </tr>\n",
       "    <tr>\n",
       "      <th>2</th>\n",
       "      <td>28</td>\n",
       "      <td>male</td>\n",
       "      <td>33.000</td>\n",
       "      <td>3</td>\n",
       "      <td>no</td>\n",
       "      <td>southeast</td>\n",
       "      <td>4449.46200</td>\n",
       "    </tr>\n",
       "    <tr>\n",
       "      <th>3</th>\n",
       "      <td>33</td>\n",
       "      <td>male</td>\n",
       "      <td>22.705</td>\n",
       "      <td>0</td>\n",
       "      <td>no</td>\n",
       "      <td>northwest</td>\n",
       "      <td>21984.47061</td>\n",
       "    </tr>\n",
       "    <tr>\n",
       "      <th>4</th>\n",
       "      <td>32</td>\n",
       "      <td>male</td>\n",
       "      <td>28.880</td>\n",
       "      <td>0</td>\n",
       "      <td>no</td>\n",
       "      <td>northwest</td>\n",
       "      <td>3866.85520</td>\n",
       "    </tr>\n",
       "  </tbody>\n",
       "</table>\n",
       "</div>"
      ],
      "text/plain": [
       "   age     sex     bmi  children smoker     region      charges\n",
       "0   19  female  27.900         0    yes  southwest  16884.92400\n",
       "1   18    male  33.770         1     no  southeast   1725.55230\n",
       "2   28    male  33.000         3     no  southeast   4449.46200\n",
       "3   33    male  22.705         0     no  northwest  21984.47061\n",
       "4   32    male  28.880         0     no  northwest   3866.85520"
      ]
     },
     "execution_count": 80,
     "metadata": {},
     "output_type": "execute_result"
    }
   ],
   "source": [
    "data.head()  #Display the first 5 rows."
   ]
  },
  {
   "cell_type": "code",
   "execution_count": 81,
   "id": "828be2cc",
   "metadata": {},
   "outputs": [
    {
     "name": "stdout",
     "output_type": "stream",
     "text": [
      "['age', 'sex', 'bmi', 'children', 'smoker', 'region', 'charges']\n"
     ]
    }
   ],
   "source": [
    "columns=data.columns.values.tolist()  #Printing a list of all columns by their names.\n",
    "print(columns)"
   ]
  },
  {
   "cell_type": "markdown",
   "id": "035053b2",
   "metadata": {},
   "source": [
    "# Understanding the basic statistics of the data"
   ]
  },
  {
   "cell_type": "code",
   "execution_count": 82,
   "id": "2474595c",
   "metadata": {},
   "outputs": [
    {
     "data": {
      "text/html": [
       "<div>\n",
       "<style scoped>\n",
       "    .dataframe tbody tr th:only-of-type {\n",
       "        vertical-align: middle;\n",
       "    }\n",
       "\n",
       "    .dataframe tbody tr th {\n",
       "        vertical-align: top;\n",
       "    }\n",
       "\n",
       "    .dataframe thead th {\n",
       "        text-align: right;\n",
       "    }\n",
       "</style>\n",
       "<table border=\"1\" class=\"dataframe\">\n",
       "  <thead>\n",
       "    <tr style=\"text-align: right;\">\n",
       "      <th></th>\n",
       "      <th>age</th>\n",
       "      <th>bmi</th>\n",
       "      <th>children</th>\n",
       "      <th>charges</th>\n",
       "    </tr>\n",
       "  </thead>\n",
       "  <tbody>\n",
       "    <tr>\n",
       "      <th>count</th>\n",
       "      <td>1338.000000</td>\n",
       "      <td>1338.000000</td>\n",
       "      <td>1338.000000</td>\n",
       "      <td>1338.000000</td>\n",
       "    </tr>\n",
       "    <tr>\n",
       "      <th>mean</th>\n",
       "      <td>39.207025</td>\n",
       "      <td>30.663397</td>\n",
       "      <td>1.094918</td>\n",
       "      <td>13270.422265</td>\n",
       "    </tr>\n",
       "    <tr>\n",
       "      <th>std</th>\n",
       "      <td>14.049960</td>\n",
       "      <td>6.098187</td>\n",
       "      <td>1.205493</td>\n",
       "      <td>12110.011237</td>\n",
       "    </tr>\n",
       "    <tr>\n",
       "      <th>min</th>\n",
       "      <td>18.000000</td>\n",
       "      <td>15.960000</td>\n",
       "      <td>0.000000</td>\n",
       "      <td>1121.873900</td>\n",
       "    </tr>\n",
       "    <tr>\n",
       "      <th>25%</th>\n",
       "      <td>27.000000</td>\n",
       "      <td>26.296250</td>\n",
       "      <td>0.000000</td>\n",
       "      <td>4740.287150</td>\n",
       "    </tr>\n",
       "    <tr>\n",
       "      <th>50%</th>\n",
       "      <td>39.000000</td>\n",
       "      <td>30.400000</td>\n",
       "      <td>1.000000</td>\n",
       "      <td>9382.033000</td>\n",
       "    </tr>\n",
       "    <tr>\n",
       "      <th>75%</th>\n",
       "      <td>51.000000</td>\n",
       "      <td>34.693750</td>\n",
       "      <td>2.000000</td>\n",
       "      <td>16639.912515</td>\n",
       "    </tr>\n",
       "    <tr>\n",
       "      <th>max</th>\n",
       "      <td>64.000000</td>\n",
       "      <td>53.130000</td>\n",
       "      <td>5.000000</td>\n",
       "      <td>63770.428010</td>\n",
       "    </tr>\n",
       "  </tbody>\n",
       "</table>\n",
       "</div>"
      ],
      "text/plain": [
       "               age          bmi     children       charges\n",
       "count  1338.000000  1338.000000  1338.000000   1338.000000\n",
       "mean     39.207025    30.663397     1.094918  13270.422265\n",
       "std      14.049960     6.098187     1.205493  12110.011237\n",
       "min      18.000000    15.960000     0.000000   1121.873900\n",
       "25%      27.000000    26.296250     0.000000   4740.287150\n",
       "50%      39.000000    30.400000     1.000000   9382.033000\n",
       "75%      51.000000    34.693750     2.000000  16639.912515\n",
       "max      64.000000    53.130000     5.000000  63770.428010"
      ]
     },
     "execution_count": 82,
     "metadata": {},
     "output_type": "execute_result"
    }
   ],
   "source": [
    "data.describe()\n"
   ]
  },
  {
   "cell_type": "markdown",
   "id": "7ae3adca",
   "metadata": {},
   "source": [
    "# checking  the outliers of the data and checking the outliers "
   ]
  },
  {
   "cell_type": "code",
   "execution_count": 83,
   "id": "12f9f639",
   "metadata": {},
   "outputs": [
    {
     "data": {
      "text/plain": [
       "<AxesSubplot: >"
      ]
     },
     "execution_count": 83,
     "metadata": {},
     "output_type": "execute_result"
    },
    {
     "data": {
      "image/png": "[encoded data removed]",
      "text/plain": [
       "<Figure size 640x480 with 1 Axes>"
      ]
     },
     "metadata": {},
     "output_type": "display_data"
    }
   ],
   "source": [
    "sns.boxplot(data[\"age\"])"
   ]
  },
  {
   "cell_type": "code",
   "execution_count": 84,
   "id": "8dfc44fd",
   "metadata": {},
   "outputs": [
    {
     "data": {
      "text/plain": [
       "<AxesSubplot: >"
      ]
     },
     "execution_count": 84,
     "metadata": {},
     "output_type": "execute_result"
    },
    {
     "data": {
      "image/png": "[encoded data removed]",
      "text/plain": [
       "<Figure size 640x480 with 1 Axes>"
      ]
     },
     "metadata": {},
     "output_type": "display_data"
    }
   ],
   "source": [
    "sns.boxplot(data[\"children\"])"
   ]
  },
  {
   "cell_type": "markdown",
   "id": "a6c217e4",
   "metadata": {},
   "source": [
    "# Data preprocessing "
   ]
  },
  {
   "cell_type": "code",
   "execution_count": 85,
   "id": "b6567e32",
   "metadata": {},
   "outputs": [],
   "source": [
    "from sklearn.preprocessing import LabelEncoder\n",
    "le=LabelEncoder()"
   ]
  },
  {
   "cell_type": "code",
   "execution_count": 86,
   "id": "5101ae2c",
   "metadata": {},
   "outputs": [],
   "source": [
    "data[\"sex\"]=le.fit_transform(data[\"sex\"])"
   ]
  },
  {
   "cell_type": "code",
   "execution_count": 87,
   "id": "96cd899c",
   "metadata": {},
   "outputs": [],
   "source": [
    "data[\"smoker\"]=le.fit_transform(data[\"smoker\"])"
   ]
  },
  {
   "cell_type": "code",
   "execution_count": 88,
   "id": "bf113430",
   "metadata": {},
   "outputs": [],
   "source": [
    "data[\"region\"]=le.fit_transform(data[\"region\"])"
   ]
  },
  {
   "cell_type": "code",
   "execution_count": 89,
   "id": "eb31bc37",
   "metadata": {},
   "outputs": [
    {
     "name": "stdout",
     "output_type": "stream",
     "text": [
      "      age  sex     bmi  children  smoker  region      charges\n",
      "0      19    0  27.900         0       1       3  16884.92400\n",
      "1      18    1  33.770         1       0       2   1725.55230\n",
      "2      28    1  33.000         3       0       2   4449.46200\n",
      "3      33    1  22.705         0       0       1  21984.47061\n",
      "4      32    1  28.880         0       0       1   3866.85520\n",
      "...   ...  ...     ...       ...     ...     ...          ...\n",
      "1333   50    1  30.970         3       0       1  10600.54830\n",
      "1334   18    0  31.920         0       0       0   2205.98080\n",
      "1335   18    0  36.850         0       0       2   1629.83350\n",
      "1336   21    0  25.800         0       0       3   2007.94500\n",
      "1337   61    0  29.070         0       1       1  29141.36030\n",
      "\n",
      "[1338 rows x 7 columns]\n"
     ]
    }
   ],
   "source": [
    "print (data)"
   ]
  },
  {
   "cell_type": "code",
   "execution_count": 90,
   "id": "a887656a",
   "metadata": {},
   "outputs": [
    {
     "data": {
      "text/html": [
       "<div>\n",
       "<style scoped>\n",
       "    .dataframe tbody tr th:only-of-type {\n",
       "        vertical-align: middle;\n",
       "    }\n",
       "\n",
       "    .dataframe tbody tr th {\n",
       "        vertical-align: top;\n",
       "    }\n",
       "\n",
       "    .dataframe thead th {\n",
       "        text-align: right;\n",
       "    }\n",
       "</style>\n",
       "<table border=\"1\" class=\"dataframe\">\n",
       "  <thead>\n",
       "    <tr style=\"text-align: right;\">\n",
       "      <th></th>\n",
       "      <th>age</th>\n",
       "      <th>sex</th>\n",
       "      <th>bmi</th>\n",
       "      <th>children</th>\n",
       "      <th>smoker</th>\n",
       "      <th>region</th>\n",
       "      <th>charges</th>\n",
       "    </tr>\n",
       "  </thead>\n",
       "  <tbody>\n",
       "    <tr>\n",
       "      <th>count</th>\n",
       "      <td>1338.000000</td>\n",
       "      <td>1338.000000</td>\n",
       "      <td>1338.000000</td>\n",
       "      <td>1338.000000</td>\n",
       "      <td>1338.000000</td>\n",
       "      <td>1338.000000</td>\n",
       "      <td>1338.000000</td>\n",
       "    </tr>\n",
       "    <tr>\n",
       "      <th>mean</th>\n",
       "      <td>39.207025</td>\n",
       "      <td>0.505232</td>\n",
       "      <td>30.663397</td>\n",
       "      <td>1.094918</td>\n",
       "      <td>0.204783</td>\n",
       "      <td>1.515695</td>\n",
       "      <td>13270.422265</td>\n",
       "    </tr>\n",
       "    <tr>\n",
       "      <th>std</th>\n",
       "      <td>14.049960</td>\n",
       "      <td>0.500160</td>\n",
       "      <td>6.098187</td>\n",
       "      <td>1.205493</td>\n",
       "      <td>0.403694</td>\n",
       "      <td>1.104885</td>\n",
       "      <td>12110.011237</td>\n",
       "    </tr>\n",
       "    <tr>\n",
       "      <th>min</th>\n",
       "      <td>18.000000</td>\n",
       "      <td>0.000000</td>\n",
       "      <td>15.960000</td>\n",
       "      <td>0.000000</td>\n",
       "      <td>0.000000</td>\n",
       "      <td>0.000000</td>\n",
       "      <td>1121.873900</td>\n",
       "    </tr>\n",
       "    <tr>\n",
       "      <th>25%</th>\n",
       "      <td>27.000000</td>\n",
       "      <td>0.000000</td>\n",
       "      <td>26.296250</td>\n",
       "      <td>0.000000</td>\n",
       "      <td>0.000000</td>\n",
       "      <td>1.000000</td>\n",
       "      <td>4740.287150</td>\n",
       "    </tr>\n",
       "    <tr>\n",
       "      <th>50%</th>\n",
       "      <td>39.000000</td>\n",
       "      <td>1.000000</td>\n",
       "      <td>30.400000</td>\n",
       "      <td>1.000000</td>\n",
       "      <td>0.000000</td>\n",
       "      <td>2.000000</td>\n",
       "      <td>9382.033000</td>\n",
       "    </tr>\n",
       "    <tr>\n",
       "      <th>75%</th>\n",
       "      <td>51.000000</td>\n",
       "      <td>1.000000</td>\n",
       "      <td>34.693750</td>\n",
       "      <td>2.000000</td>\n",
       "      <td>0.000000</td>\n",
       "      <td>2.000000</td>\n",
       "      <td>16639.912515</td>\n",
       "    </tr>\n",
       "    <tr>\n",
       "      <th>max</th>\n",
       "      <td>64.000000</td>\n",
       "      <td>1.000000</td>\n",
       "      <td>53.130000</td>\n",
       "      <td>5.000000</td>\n",
       "      <td>1.000000</td>\n",
       "      <td>3.000000</td>\n",
       "      <td>63770.428010</td>\n",
       "    </tr>\n",
       "  </tbody>\n",
       "</table>\n",
       "</div>"
      ],
      "text/plain": [
       "               age          sex          bmi     children       smoker  \\\n",
       "count  1338.000000  1338.000000  1338.000000  1338.000000  1338.000000   \n",
       "mean     39.207025     0.505232    30.663397     1.094918     0.204783   \n",
       "std      14.049960     0.500160     6.098187     1.205493     0.403694   \n",
       "min      18.000000     0.000000    15.960000     0.000000     0.000000   \n",
       "25%      27.000000     0.000000    26.296250     0.000000     0.000000   \n",
       "50%      39.000000     1.000000    30.400000     1.000000     0.000000   \n",
       "75%      51.000000     1.000000    34.693750     2.000000     0.000000   \n",
       "max      64.000000     1.000000    53.130000     5.000000     1.000000   \n",
       "\n",
       "            region       charges  \n",
       "count  1338.000000   1338.000000  \n",
       "mean      1.515695  13270.422265  \n",
       "std       1.104885  12110.011237  \n",
       "min       0.000000   1121.873900  \n",
       "25%       1.000000   4740.287150  \n",
       "50%       2.000000   9382.033000  \n",
       "75%       2.000000  16639.912515  \n",
       "max       3.000000  63770.428010  "
      ]
     },
     "execution_count": 90,
     "metadata": {},
     "output_type": "execute_result"
    }
   ],
   "source": [
    "data.describe()"
   ]
  },
  {
   "cell_type": "markdown",
   "id": "064fab9b",
   "metadata": {},
   "source": [
    "# finding the correlation of the features "
   ]
  },
  {
   "cell_type": "code",
   "execution_count": 91,
   "id": "d7566ca3",
   "metadata": {},
   "outputs": [
    {
     "data": {
      "text/plain": [
       "<AxesSubplot: >"
      ]
     },
     "execution_count": 91,
     "metadata": {},
     "output_type": "execute_result"
    },
    {
     "data": {
      "image/png": "[encoded data removed]",
      "text/plain": [
       "<Figure size 640x480 with 2 Axes>"
      ]
     },
     "metadata": {},
     "output_type": "display_data"
    }
   ],
   "source": [
    "data_corre=data.corr()\n",
    "sns.heatmap(data_corre, annot=True)"
   ]
  },
  {
   "cell_type": "code",
   "execution_count": 92,
   "id": "2f97e8a7",
   "metadata": {},
   "outputs": [],
   "source": [
    "from sklearn.linear_model  import LinearRegression\n",
    "from sklearn.model_selection import train_test_split"
   ]
  },
  {
   "cell_type": "code",
   "execution_count": 93,
   "id": "42d1e8b1",
   "metadata": {},
   "outputs": [
    {
     "name": "stdout",
     "output_type": "stream",
     "text": [
      "      age  sex     bmi  children  smoker  region\n",
      "0      19    0  27.900         0       1       3\n",
      "1      18    1  33.770         1       0       2\n",
      "2      28    1  33.000         3       0       2\n",
      "3      33    1  22.705         0       0       1\n",
      "4      32    1  28.880         0       0       1\n",
      "...   ...  ...     ...       ...     ...     ...\n",
      "1333   50    1  30.970         3       0       1\n",
      "1334   18    0  31.920         0       0       0\n",
      "1335   18    0  36.850         0       0       2\n",
      "1336   21    0  25.800         0       0       3\n",
      "1337   61    0  29.070         0       1       1\n",
      "\n",
      "[1338 rows x 6 columns] 0       16884.92400\n",
      "1        1725.55230\n",
      "2        4449.46200\n",
      "3       21984.47061\n",
      "4        3866.85520\n",
      "           ...     \n",
      "1333    10600.54830\n",
      "1334     2205.98080\n",
      "1335     1629.83350\n",
      "1336     2007.94500\n",
      "1337    29141.36030\n",
      "Name: charges, Length: 1338, dtype: float64\n"
     ]
    }
   ],
   "source": [
    "x=data.drop([\"charges\"],axis=1)\n",
    "y=data[\"charges\"]\n",
    "print(x, y)\n"
   ]
  },
  {
   "cell_type": "markdown",
   "id": "e69a7cb3",
   "metadata": {},
   "source": [
    "# Training the dataset "
   ]
  },
  {
   "cell_type": "code",
   "execution_count": 94,
   "id": "81a7d745",
   "metadata": {},
   "outputs": [
    {
     "name": "stdout",
     "output_type": "stream",
     "text": [
      "      age  sex     bmi  children  smoker  region\n",
      "332    61    0  31.160         0       0       1\n",
      "355    46    1  27.600         0       0       3\n",
      "138    54    0  31.900         3       0       2\n",
      "381    55    1  30.685         0       1       0\n",
      "292    25    1  45.540         2       1       2\n",
      "...   ...  ...     ...       ...     ...     ...\n",
      "1095   18    0  31.350         4       0       0\n",
      "1130   39    0  23.870         5       0       2\n",
      "1294   58    1  25.175         0       0       0\n",
      "860    37    0  47.600         2       1       3\n",
      "1126   55    1  29.900         0       0       3\n",
      "\n",
      "[936 rows x 6 columns]       age  sex     bmi  children  smoker  region\n",
      "764    45    0  25.175         2       0       0\n",
      "887    36    0  30.020         0       0       1\n",
      "890    64    0  26.885         0       1       1\n",
      "1293   46    1  25.745         3       0       1\n",
      "259    19    1  31.920         0       1       1\n",
      "...   ...  ...     ...       ...     ...     ...\n",
      "701    50    0  44.745         0       0       0\n",
      "672    36    1  29.700         0       0       2\n",
      "1163   18    0  28.215         0       0       0\n",
      "1103   58    1  36.080         0       0       2\n",
      "1295   20    1  22.000         1       0       3\n",
      "\n",
      "[402 rows x 6 columns] 332     13429.03540\n",
      "355     24603.04837\n",
      "138     27322.73386\n",
      "381     42303.69215\n",
      "292     42112.23560\n",
      "           ...     \n",
      "1095     4561.18850\n",
      "1130     8582.30230\n",
      "1294    11931.12525\n",
      "860     46113.51100\n",
      "1126    10214.63600\n",
      "Name: charges, Length: 936, dtype: float64 764      9095.06825\n",
      "887      5272.17580\n",
      "890     29330.98315\n",
      "1293     9301.89355\n",
      "259     33750.29180\n",
      "           ...     \n",
      "701      9541.69555\n",
      "672      4399.73100\n",
      "1163     2200.83085\n",
      "1103    11363.28320\n",
      "1295     1964.78000\n",
      "Name: charges, Length: 402, dtype: float64\n"
     ]
    }
   ],
   "source": [
    "x_train, x_test, y_train, y_test=train_test_split(x, y, test_size=0.3, random_state=42)\n",
    "print(x_train, x_test, y_train, y_test)\n"
   ]
  },
  {
   "cell_type": "markdown",
   "id": "29da3f79",
   "metadata": {},
   "source": [
    "# Using the linear regression model  to predict the charges for a new customer "
   ]
  },
  {
   "cell_type": "code",
   "execution_count": 95,
   "id": "5ae9309e",
   "metadata": {},
   "outputs": [
    {
     "name": "stdout",
     "output_type": "stream",
     "text": [
      "[ 8.93142116e+03  7.07090670e+03  3.69370805e+04  9.59699214e+03\n",
      "  2.70083549e+04  1.08664849e+04  3.74610217e+01  1.72228092e+04\n",
      "  9.18308115e+02  1.13965537e+04  2.79154456e+04  9.53381323e+03\n",
      "  5.18928014e+03  3.86124990e+04  4.05094490e+04  3.72748566e+04\n",
      "  1.53562559e+04  3.59449407e+04  9.10631783e+03  3.14429410e+04\n",
      "  3.66298253e+03  1.00966745e+04  2.21091896e+03  7.10598084e+03\n",
      "  1.13521417e+04  1.30231210e+04  1.44472857e+04  6.12031303e+03\n",
      "  9.94564893e+03  2.18617424e+03  8.91389260e+03  1.31869496e+04\n",
      "  4.49110116e+03  3.30469662e+03  4.32885102e+03  1.32330189e+04\n",
      "  1.67071398e+03  8.63238607e+03  3.32727214e+04  3.26840062e+04\n",
      "  3.60294190e+03  4.40040903e+03  1.40663345e+04  1.16268203e+04\n",
      "  8.89219642e+03  1.21011367e+04  5.23906853e+03  2.84241293e+03\n",
      "  3.56294259e+04  9.27854339e+03  1.59720792e+04  2.34524488e+03\n",
      "  1.24695907e+04  1.45575199e+03  1.36060478e+04  1.27386152e+04\n",
      "  4.36613796e+03  3.22719994e+04  1.32349447e+04  1.29578859e+04\n",
      "  1.40951649e+04  1.05369676e+04  1.64362140e+04  7.75461795e+03\n",
      "  1.18779662e+04  3.99480572e+03  2.64330928e+04  1.10659605e+04\n",
      "  2.03158533e+03  6.13115399e+03  1.08767882e+04  1.16479288e+04\n",
      "  1.10243957e+04  9.28705268e+03  1.21416074e+04  6.70998959e+03\n",
      "  7.30925330e+03  1.07977596e+04  6.52692249e+03  8.55728949e+03\n",
      "  3.80852363e+03  3.67844754e+04  6.14441916e+03  3.07570013e+04\n",
      "  3.50094357e+04  3.54124821e+04  7.09149212e+03  1.31006630e+04\n",
      "  9.98014918e+03  1.45154809e+04  1.78305771e+04  3.52686158e+04\n",
      "  3.29784225e+04  6.22933443e+03  3.20886288e+04  9.43560516e+03\n",
      "  2.94772073e+04  3.58517664e+03  2.82020377e+04  5.72599261e+03\n",
      "  5.36908283e+03  1.58445451e+03  1.16903588e+04  1.51280855e+04\n",
      "  1.18546309e+04  4.35394125e+03  1.00266822e+04  3.17802817e+04\n",
      " -1.48104195e+02  3.27772034e+04  3.14119000e+03  1.03506397e+04\n",
      "  1.43957986e+04  3.15739258e+04  1.14847275e+04  3.79273137e+03\n",
      "  1.32950567e+04  3.15750153e+04  8.12355507e+03  3.28730085e+03\n",
      "  8.41136792e+03  1.07776201e+04  1.53125155e+04  5.72672481e+03\n",
      "  3.69907719e+03  1.02751918e+04  1.09365360e+04  1.12670571e+04\n",
      "  1.45465772e+04  7.54959534e+03  5.32238745e+03  9.34711885e+03\n",
      "  9.34370053e+03  1.25996636e+04  8.16069315e+03  1.54087671e+04\n",
      "  8.52238619e+03  3.17112944e+04  3.58615001e+04  3.15416516e+04\n",
      "  5.99075866e+03  1.26637568e+04  6.09837646e+03  1.46914670e+04\n",
      "  2.50155681e+03  3.28754173e+04  6.36065967e+03  4.79287176e+03\n",
      "  1.44614304e+04  6.85575464e+03  3.87691431e+04  3.01513756e+03\n",
      "  5.97616737e+03  3.17494933e+04  1.16517535e+04  8.58762133e+03\n",
      "  1.50293832e+04  9.82274269e+03  2.69822534e+04  3.35479130e+04\n",
      "  1.46237783e+04  1.57471099e+03  1.31790001e+04  2.20744054e+03\n",
      "  5.32298532e+03  1.17395267e+04  3.97487819e+04  3.65786298e+04\n",
      "  3.41034394e+04  3.63657142e+03  7.23905466e+03  8.48169987e+03\n",
      "  1.26452175e+04  4.88932998e+03  1.74915089e+03  3.21887949e+04\n",
      "  2.49014504e+04  1.77835495e+04  2.62715499e+04  1.02083595e+04\n",
      "  3.72965033e+04 -6.52360342e+02  6.88231317e+03  7.58702522e+03\n",
      "  4.36293824e+03  5.07700999e+03  5.96907983e+03  4.04888331e+03\n",
      "  1.53182327e+04  1.13331480e+04  6.83898258e+03  2.39352108e+03\n",
      "  1.37792303e+03  3.18527846e+04  1.66917992e+04  1.20745723e+04\n",
      "  1.14919812e+03  1.25625910e+04  1.41156831e+03  8.55785296e+03\n",
      "  1.77064557e+03  3.40708782e+04  1.10256141e+04  2.63243650e+03\n",
      "  2.55079532e+04  2.61948641e+04  9.59950672e+03  1.66993572e+03\n",
      "  1.34838387e+04  7.87765692e+02  1.03599201e+04  1.05819030e+04\n",
      "  1.70814008e+04  2.68387842e+04  7.00938297e+03  5.10751649e+03\n",
      "  5.78098372e+03  1.32803923e+04  1.11319095e+04  8.35083139e+03\n",
      "  5.11042689e+03  1.25467353e+04  1.40772626e+04  3.59251544e+04\n",
      "  4.23789294e+03  2.89538327e+04 -1.27526758e+03  2.92930773e+03\n",
      "  1.12062922e+04  1.57880970e+04  5.28294712e+03  6.87109043e+03\n",
      "  3.56790897e+03  3.12149215e+04  7.23091139e+03  1.26084664e+04\n",
      "  5.70762316e+03  9.50312570e+03  3.63497801e+04  4.48337473e+03\n",
      "  9.65037954e+03  3.10538973e+04  5.73141678e+03  4.51810286e+03\n",
      "  1.06359747e+03  4.92434635e+03  4.30546329e+03  6.41542240e+03\n",
      "  1.88165410e+04 -1.58767500e+03  2.08726159e+03  1.06664386e+04\n",
      "  2.87099675e+03  1.02075046e+04  3.66954356e+03  5.05237573e+03\n",
      "  1.24207550e+04  6.33066928e+03  8.32234154e+03  7.52601017e+03\n",
      "  8.93227534e+03  1.05347636e+04  2.78205086e+04  3.92856297e+04\n",
      "  1.18447191e+04  7.76727113e+03  4.10661436e+04  1.22069344e+04\n",
      "  7.06633749e+03  8.31134638e+03  9.15260379e+03  1.11327147e+04\n",
      "  1.01074213e+04  1.78630232e+04  7.84425363e+02  2.35054301e+04\n",
      "  1.28402370e+04  3.32540123e+04  5.21396476e+03  1.33702622e+04\n",
      "  1.04393089e+04  1.79306010e+04  9.81175719e+03  1.15961440e+04\n",
      "  3.21617330e+04  3.31986358e+03  1.37496402e+04  3.95683833e+04\n",
      "  5.54333858e+03  6.23384509e+03  3.34274209e+03  1.13602421e+04\n",
      "  2.53553476e+04  1.42751792e+04  9.36322233e+03  1.01541781e+04\n",
      "  1.36846064e+04  7.04846551e+02  2.40293110e+03  3.08256247e+04\n",
      "  2.98939248e+04  1.37971445e+04  3.66840086e+03  2.54033560e+04\n",
      "  1.36099681e+04  3.08035817e+04  3.40774884e+03  3.91303562e+04\n",
      "  1.13520181e+04  4.88112196e+03  6.63012225e+03  2.57264447e+03\n",
      "  2.58941048e+04  1.43159019e+04  3.67727374e+02  1.26690993e+04\n",
      "  1.28517230e+04  1.50524315e+04  3.51550959e+04  1.44614312e+04\n",
      "  3.16849510e+04  9.88814606e+03  1.82342812e+04  5.85771654e+03\n",
      "  8.99261803e+03  9.27620101e+03  1.54708619e+04  8.98736496e+03\n",
      "  8.41456605e+03  1.50608819e+04  1.28253602e+04  1.49321014e+04\n",
      "  7.38658206e+03  2.61065024e+04  9.37846298e+03  1.84801777e+03\n",
      "  4.29082654e+03  1.42115781e+04  3.58650882e+04  9.49708847e+03\n",
      "  1.28255300e+04  5.29979460e+03  4.97447308e+03  3.81342220e+03\n",
      "  2.72083867e+03  9.03161410e+03  7.19875937e+03  2.49342629e+03\n",
      "  1.30461468e+04  8.90160139e+03  5.81259221e+03  5.38198278e+02\n",
      "  9.31275778e+03  4.97277878e+03  3.31106597e+04  2.85736717e+04\n",
      "  3.70597724e+04  5.48953746e+03  8.72326591e+03  8.39711736e+03\n",
      "  3.36207746e+03  3.16373339e+04  7.14468257e+03  2.84245186e+04\n",
      "  3.62304876e+04  7.13435976e+03  1.28623795e+04  9.91674109e+03\n",
      "  8.34333364e+03  1.27928552e+04  3.01641764e+04  1.71595116e+04\n",
      "  1.20106593e+04  4.00580087e+03 -1.43018949e+03  1.22043703e+04\n",
      "  3.07650613e+04  1.31623933e+04  1.12000279e+04  7.95694801e+03\n",
      "  3.61330671e+03  7.02240292e+03  7.06987605e+03  1.05760938e+04\n",
      "  3.37742354e+04  3.90910529e+04  1.18223109e+04  8.34561825e+03\n",
      "  1.66015909e+04  1.57702432e+04  9.51209017e+03  9.18903542e+03\n",
      "  8.93273210e+03  2.58258875e+03  1.00252352e+04  3.92756091e+03\n",
      "  1.05130405e+04  1.61335516e+04  6.74383693e+03  2.06620349e+03\n",
      "  1.46977981e+04  2.73823510e+00]\n"
     ]
    }
   ],
   "source": [
    "reg=LinearRegression()\n",
    "reg.fit(x_train,y_train)\n",
    "predictions=reg.predict(x_test)\n",
    "print(predictions)\n"
   ]
  },
  {
   "cell_type": "markdown",
   "id": "b2105c38",
   "metadata": {},
   "source": [
    "# we created a machine learning algorithm that is able to predict customer churn with an accuracy of 76.94%"
   ]
  },
  {
   "cell_type": "code",
   "execution_count": 96,
   "id": "c6982aa1",
   "metadata": {},
   "outputs": [
    {
     "data": {
      "text/plain": [
       "0.7694415927057693"
      ]
     },
     "execution_count": 96,
     "metadata": {},
     "output_type": "execute_result"
    }
   ],
   "source": [
    "from  sklearn.metrics import r2_score\n",
    "r2_score(y_test, predictions)"
   ]
  },
  {
   "cell_type": "markdown",
   "id": "1c5ee02b",
   "metadata": {},
   "source": [
    "# Finally we evaluate the model in terms of MAE, RMSE and MSE"
   ]
  },
  {
   "cell_type": "code",
   "execution_count": 97,
   "id": "1cbaba6f",
   "metadata": {},
   "outputs": [],
   "source": [
    "import numpy as np\n",
    "y=np.array([3, -1, -2, 1, -1, 1, 2, 1, 3, 4, 3, 5])\n",
    "yhat=np.array([-2, 1, -1, 0, -1, 1, 2, 2, 3, 3, 3, 5])\n",
    "x=list(range(len(y)))"
   ]
  },
  {
   "cell_type": "code",
   "execution_count": 98,
   "id": "2f64d49a",
   "metadata": {},
   "outputs": [
    {
     "data": {
      "text/plain": [
       "<function matplotlib.pyplot.show(close=None, block=None)>"
      ]
     },
     "execution_count": 98,
     "metadata": {},
     "output_type": "execute_result"
    },
    {
     "data": {
      "image/png": "[encoded data removed]",
      "text/plain": [
       "<Figure size 640x480 with 1 Axes>"
      ]
     },
     "metadata": {},
     "output_type": "display_data"
    }
   ],
   "source": [
    "import matplotlib.pyplot as plt\n",
    "plt.scatter(x, y, color =\"blue\", label=\"original\")\n",
    "plt.plot(x, yhat,  color=\"red\", label =\"predicted\")\n",
    "plt.legend()\n",
    "plt.show"
   ]
  },
  {
   "cell_type": "code",
   "execution_count": 99,
   "id": "7f5d619f",
   "metadata": {},
   "outputs": [
    {
     "name": "stdout",
     "output_type": "stream",
     "text": [
      " MSE is:  2.75\n",
      "MAE is:  0.9166666666666666\n",
      "RMSE is:  1.6583123951777\n",
      "R-squared:  0.3518821603927986\n"
     ]
    }
   ],
   "source": [
    "d=y-yhat\n",
    "mse_f=np.mean(d**2)\n",
    "mae_f=np.mean(abs(d))\n",
    "rmse_f=np.sqrt(mse_f)\n",
    "r2_f=1-(sum(d**2)/sum((y-np.mean(y))**2))\n",
    "print( \" MSE is: \", mse_f)\n",
    "print(\"MAE is: \", mae_f)\n",
    "print(\"RMSE is: \", rmse_f)\n",
    "print(\"R-squared: \", r2_f)"
   ]
  },
  {
   "cell_type": "code",
   "execution_count": null,
   "id": "aa9d2094",
   "metadata": {},
   "outputs": [],
   "source": []
  }
 ],
 "metadata": {
  "kernelspec": {
   "display_name": "Python 3 (ipykernel)",
   "language": "python",
   "name": "python3"
  },
  "language_info": {
   "codemirror_mode": {
    "name": "ipython",
    "version": 3
   },
   "file_extension": ".py",
   "mimetype": "text/x-python",
   "name": "python",
   "nbconvert_exporter": "python",
   "pygments_lexer": "ipython3",
   "version": "3.11.1"
  }
 },
 "nbformat": 4,
 "nbformat_minor": 5
}
